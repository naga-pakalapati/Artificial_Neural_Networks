{
 "cells": [
  {
   "cell_type": "markdown",
   "metadata": {},
   "source": [
    "# Image Classification - Handwritten Digits\n",
    "--------------------------\n",
    "In this project we will use Deep Neural Networks for image classification. We shall use [handwritten digits dataset](http://archive.ics.uci.edu/ml/datasets/Optical+Recognition+of+Handwritten+Digits) from UCI which is available on sklearn."
   ]
  },
  {
   "cell_type": "code",
   "execution_count": 48,
   "metadata": {},
   "outputs": [],
   "source": [
    "#Imports\n",
    "import numpy as np\n",
    "import pandas as pd\n",
    "import matplotlib.pyplot as plt\n",
    "from sklearn.datasets import load_digits\n",
    "\n",
    "from sklearn.model_selection import train_test_split\n",
    "from sklearn.neighbors import KNeighborsClassifier\n",
    "from sklearn.model_selection import cross_val_score\n",
    "\n",
    "#Settings\n",
    "%matplotlib inline\n",
    "\n",
    "from IPython.core.interactiveshell import InteractiveShell\n",
    "InteractiveShell.ast_node_interactivity = \"all\""
   ]
  },
  {
   "cell_type": "code",
   "execution_count": 45,
   "metadata": {},
   "outputs": [
    {
     "data": {
      "image/png": "[encoded data removed]",
      "text/plain": [
       "<Figure size 432x288 with 8 Axes>"
      ]
     },
     "metadata": {
      "needs_background": "light"
     },
     "output_type": "display_data"
    }
   ],
   "source": [
    "#load data\n",
    "digits_data = load_digits()\n",
    "\n",
    "#visualize few random images\n",
    "fig, ax = plt.subplots(2,4)\n",
    "ax[0,0].imshow(digits_data['data'][0].reshape(8,8), cmap='gray_r')\n",
    "ax[0,1].imshow(digits_data['data'][100].reshape(8,8), cmap='gray_r')\n",
    "ax[0,2].imshow(digits_data['data'][200].reshape(8,8), cmap='gray_r')\n",
    "ax[0,3].imshow(digits_data['data'][300].reshape(8,8), cmap='gray_r')\n",
    "ax[1,0].imshow(digits_data['data'][1000].reshape(8,8), cmap='gray_r')\n",
    "ax[1,1].imshow(digits_data['data'][1100].reshape(8,8), cmap='gray_r')\n",
    "ax[1,2].imshow(digits_data['data'][1200].reshape(8,8), cmap='gray_r')\n",
    "ax[1,3].imshow(digits_data['data'][1300].reshape(8,8), cmap='gray_r');"
   ]
  },
  {
   "cell_type": "markdown",
   "metadata": {},
   "source": [
    "Our input data looks good. We could visualize the data images. Let's split the data into train and test and build different models."
   ]
  },
  {
   "cell_type": "code",
   "execution_count": 47,
   "metadata": {},
   "outputs": [
    {
     "data": {
      "text/plain": [
       "((1347, 64), (1347,))"
      ]
     },
     "execution_count": 47,
     "metadata": {},
     "output_type": "execute_result"
    },
    {
     "data": {
      "text/plain": [
       "((450, 64), (450,))"
      ]
     },
     "execution_count": 47,
     "metadata": {},
     "output_type": "execute_result"
    }
   ],
   "source": [
    "#split data\n",
    "x_train, x_test, y_train, y_test = train_test_split(digits_data['data'], digits_data['target'],\n",
    "                                                   random_state=0)\n",
    "\n",
    "x_train.shape, y_train.shape\n",
    "x_test.shape, y_test.shape"
   ]
  },
  {
   "cell_type": "markdown",
   "metadata": {},
   "source": [
    "-----------------------\n",
    "### k-NN\n",
    "\n",
    "- use different cv to find best performing model\n",
    "- use \"Accuracy\" to validate model to find best cv.\n",
    "- use it to make predictions on test set."
   ]
  },
  {
   "cell_type": "code",
   "execution_count": 102,
   "metadata": {},
   "outputs": [],
   "source": [
    "#function to train k-NN model\n",
    "\n",
    "def knn_train(xtrain, ytrain):\n",
    "    knn = KNeighborsClassifier()\n",
    "    \n",
    "    cv_scores = {}\n",
    "    for cross_val in np.arange(2,21):\n",
    "        scores = cross_val_score(knn, xtrain, ytrain, cv=cross_val, scoring=\"accuracy\")\n",
    "        avg_score = np.mean(scores)\n",
    "        cv_scores[cross_val] = avg_score\n",
    "    \n",
    "    best_cv = max(cv_scores, key=cv_scores.get)\n",
    "    return best_cv, cv_scores[best_cv], cv_scores\n",
    "\n",
    "    \n",
    "#apply above function to find best cross validation and accuracy score on train set\n",
    "cv, acc_score, all_scores = knn_train(x_train, y_train)"
   ]
  },
  {
   "cell_type": "code",
   "execution_count": 104,
   "metadata": {},
   "outputs": [
    {
     "data": {
      "image/png": "[encoded data removed]",
      "text/plain": [
       "<Figure size 432x288 with 1 Axes>"
      ]
     },
     "metadata": {
      "needs_background": "light"
     },
     "output_type": "display_data"
    }
   ],
   "source": [
    "#visualize accuracy scores\n",
    "plt.plot(list(all_scores.keys()), list(all_scores.values()))\n",
    "plt.title(\"Cross-Validation accuracy trend\")\n",
    "plt.xlabel(\"CV\")\n",
    "plt.ylabel(\"Accuracy\")\n",
    "plt.show();"
   ]
  },
  {
   "cell_type": "code",
   "execution_count": 105,
   "metadata": {},
   "outputs": [
    {
     "name": "stdout",
     "output_type": "stream",
     "text": [
      "Best accuracy socre of 0.987 is achieved at 4 cross validations on training set\n"
     ]
    }
   ],
   "source": [
    "#print best model with accuracy score\n",
    "print(\"Best accuracy socre of {0:.3f} is achieved at {1} cross validations on training set\".format(acc_score,cv))"
   ]
  },
  {
   "cell_type": "code",
   "execution_count": null,
   "metadata": {},
   "outputs": [],
   "source": []
  }
 ],
 "metadata": {
  "kernelspec": {
   "display_name": "Python 3",
   "language": "python",
   "name": "python3"
  },
  "language_info": {
   "codemirror_mode": {
    "name": "ipython",
    "version": 3
   },
   "file_extension": ".py",
   "mimetype": "text/x-python",
   "name": "python",
   "nbconvert_exporter": "python",
   "pygments_lexer": "ipython3",
   "version": "3.7.4"
  }
 },
 "nbformat": 4,
 "nbformat_minor": 2
}
